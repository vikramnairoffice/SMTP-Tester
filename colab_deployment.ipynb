{
 "nbformat": 4,
 "nbformat_minor": 0,
 "metadata": {
  "colab": {
   "provenance": [],
   "collapsed_sections": []
  },
  "kernelspec": {
   "name": "python3",
   "display_name": "Python 3"
  },
  "language_info": {
   "name": "python"
  }
 },
 "cells": [
  {
   "cell_type": "markdown",
   "metadata": {},
   "source": [
    "# Gmail IMAP Credentials Checker - Google Colab Deployment\\n",
    "\\n",
    "This notebook sets up and runs the Gmail IMAP Credentials Checker in Google Colab.\\n",
    "\\n",
    "## 🚀 Features\\n",
    "- **App Password Authentication**: Validate Gmail app passwords\\n",
    "- **OAuth2 Authentication**: Use Google Cloud client secrets\\n",
    "- **Bulk Processing**: Handle multiple credentials at once\\n",
    "- **Export Results**: Download CSV and summary reports\\n",
    "\\n",
    "## 📋 Prerequisites\\n",
    "- Gmail account with 2FA enabled (for app passwords)\\n",
    "- Google Cloud Console access (for OAuth2)\\n",
    "- Valid credentials to test"
   ]
  },
  {
   "cell_type": "markdown",
   "metadata": {},
   "source": [
    "## Step 1: Clone Repository and Install Dependencies"
   ]
  },
  {
   "cell_type": "code",
   "execution_count": null,
   "metadata": {},
   "outputs": [],
   "source": "# Clone the repository\n!git clone https://github.com/vikramnairoffice/SMTP-Tester.git\n%cd SMTP-Tester\n\n# Run the application\n!python main.py"
  },
  {
   "cell_type": "markdown",
   "metadata": {},
   "source": [
    "## Step 2: Launch the Application"
   ]
  },
  {
   "cell_type": "code",
   "execution_count": null,
   "metadata": {},
   "outputs": [],
   "source": "# The application is already running from the cell above\n# Just click the Gradio public URL that appears"
  },
  {
   "cell_type": "markdown",
   "metadata": {},
   "source": [
    "## 📋 Usage Instructions\\n",
    "\\n",
    "1. **Click the public Gradio link** that appears above\\n",
    "2. **For App Passwords**: Enter credentials in format `email:password`\\n",
    "3. **For OAuth2**: Upload JSON client secret files\\n",
    "4. **Click Process Credentials** to start validation\\n",
    "5. **For OAuth2**: Check this cell output for authorization links\\n",
    "6. **Download Results**: Use the download buttons for CSV/summary\\n",
    "\\n",
    "## ⚠️ Important Notes\\n",
    "\\n",
    "- **OAuth2 Authentication**: Authorization links will appear in this cell output\\n",
    "- **Security**: Never share your credentials or client secrets\\n",
    "- **Rate Limits**: Process credentials in reasonable batches\\n",
    "- **Debug Info**: Check cell output for detailed error messages"
   ]
  },
  {
   "cell_type": "markdown",
   "metadata": {},
   "source": [
    "## 🛠️ Troubleshooting\\n",
    "\\n",
    "If you encounter issues, run the diagnostic tests below:"
   ]
  },
  {
   "cell_type": "code",
   "execution_count": null,
   "metadata": {},
   "outputs": [],
   "source": "# Not needed - simplified system"
  },
  {
   "cell_type": "code",
   "execution_count": null,
   "metadata": {},
   "outputs": [],
   "source": "# Not needed - simplified system"
  },
  {
   "cell_type": "code",
   "execution_count": null,
   "metadata": {},
   "outputs": [],
   "source": [
    "# Check debug logs\\n",
    "!cat /tmp/gmail_checker_debug.log"
   ]
  }
 ]
}